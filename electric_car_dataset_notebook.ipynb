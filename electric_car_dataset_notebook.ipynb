{
 "cells": [
  {
   "cell_type": "markdown",
   "metadata": {},
   "source": [
    "ELECTRIC VEHICLES DATASET"
   ]
  },
  {
   "cell_type": "markdown",
   "metadata": {},
   "source": [
    "About this Dataset:     \n",
    "\"This dataset contains information from 3,395 high resolution electric vehicle charging sessions. The data contains sessions from 85 EV drivers with repeat usage at 105 stations across 25 sites at a workplace charging program. The workplace locations include facilities such as research and innovation centers, manufacturing, testing facilities and office headquarters for a firm participating in the U.S. Department of Energy (DOE) workplace charging challenge. The data is in a human and machine readable *.CSV format.\""
   ]
  },
  {
   "cell_type": "markdown",
   "metadata": {},
   "source": [
    "Using this dataset one will try to make an inference on the average time it takes a electric vehicle to charge, How much it cost, How much kilowatts on average is a vehicle charge per session. The dataset could be obtain on Kaggle. \n",
    "The link is : https://www.kaggle.com/datasets/michaelbryantds/electric-vehicle-charging-dataset"
   ]
  },
  {
   "cell_type": "code",
   "execution_count": 131,
   "metadata": {},
   "outputs": [],
   "source": [
    "import pandas as pd"
   ]
  },
  {
   "cell_type": "markdown",
   "metadata": {},
   "source": [
    "Before running our second line of code. It is neccesary for us to know the path of the csv file. It is more convenient if the csv file is on the same folder as our jupyter notebook. if it is not on the same folder as the jupyter notebook then make sure you trace the file path correctly for it to work properly."
   ]
  },
  {
   "cell_type": "code",
   "execution_count": null,
   "metadata": {},
   "outputs": [],
   "source": [
    "df = pd.read_csv(\"station_data_dataverse.csv\")"
   ]
  },
  {
   "cell_type": "markdown",
   "metadata": {},
   "source": [
    "This print is just to make sure that everything is working correctly."
   ]
  },
  {
   "cell_type": "code",
   "execution_count": null,
   "metadata": {},
   "outputs": [],
   "source": [
    "print(df)"
   ]
  },
  {
   "cell_type": "markdown",
   "metadata": {},
   "source": [
    "To view a preview of the dataset instead of printing the whole dataset one could simply use the function head()."
   ]
  },
  {
   "cell_type": "code",
   "execution_count": null,
   "metadata": {},
   "outputs": [],
   "source": [
    "print(df.head())"
   ]
  },
  {
   "cell_type": "markdown",
   "metadata": {},
   "source": [
    "As we could see everything is working properly but there seem to be some formatting error with the dates. Lets fix that."
   ]
  },
  {
   "cell_type": "code",
   "execution_count": null,
   "metadata": {},
   "outputs": [],
   "source": [
    "for i, value in enumerate(df[\"created\"]):\n",
    "    if value.startswith(\"00\"):\n",
    "        df.loc[i:, \"created\"] = value.lstrip(\"00\")"
   ]
  },
  {
   "cell_type": "code",
   "execution_count": null,
   "metadata": {},
   "outputs": [],
   "source": [
    "for i, value in enumerate(df[\"ended\"]):\n",
    "    if value.startswith(\"00\"):\n",
    "        df.loc[i:, \"ended\"] = value.lstrip(\"00\")"
   ]
  },
  {
   "cell_type": "code",
   "execution_count": null,
   "metadata": {},
   "outputs": [],
   "source": [
    "print(df.head())"
   ]
  },
  {
   "cell_type": "markdown",
   "metadata": {},
   "source": [
    "The dates have been fixed. Its time to start making some assumptions with about the data and then running some code to see if our assumptions are correct. \n",
    "Let's start by making an inference on which platform appears more often. "
   ]
  },
  {
   "cell_type": "code",
   "execution_count": null,
   "metadata": {},
   "outputs": [],
   "source": [
    "platform_users = df[\"platform\"].value_counts()\n",
    "print(platform_users)"
   ]
  },
  {
   "cell_type": "markdown",
   "metadata": {},
   "source": [
    "The limitation of this data is that we cannot get the actual ios to android users because this data only comes from 85 electric vehicles. Meaning that the number of ios users vs android users would in reality be less than 100. We could try to use these numbers to guess the percentage of users out of those 85 total users."
   ]
  },
  {
   "cell_type": "code",
   "execution_count": null,
   "metadata": {},
   "outputs": [],
   "source": [
    "ios = 2234\n",
    "android = 1155\n",
    "web = 6\n",
    "total = ios + android + web"
   ]
  },
  {
   "cell_type": "code",
   "execution_count": null,
   "metadata": {},
   "outputs": [],
   "source": [
    "percentage_ios = 2234 / total * 100\n",
    "users_ios = percentage_ios / 100 * 85"
   ]
  },
  {
   "cell_type": "code",
   "execution_count": null,
   "metadata": {},
   "outputs": [],
   "source": [
    "print(f\"The percentage of ios users in this dataset was approximately %{round(percentage_ios, 2)} This equals to about 55 ios users.\")"
   ]
  },
  {
   "cell_type": "code",
   "execution_count": null,
   "metadata": {},
   "outputs": [],
   "source": [
    "percentage_android = 1155 / total * 100\n",
    "users_android =  percentage_android / 100 * 85"
   ]
  },
  {
   "cell_type": "code",
   "execution_count": null,
   "metadata": {},
   "outputs": [],
   "source": [
    "print(f\"The percentage of android users in this dataset was approximately %{round(percentage_android, 2)} This equals to about {round(users_android)} ios users.\")"
   ]
  },
  {
   "cell_type": "code",
   "execution_count": null,
   "metadata": {},
   "outputs": [],
   "source": [
    "percentage_web = web / total * 100\n",
    "web_users =  percentage_web / 100 * 85"
   ]
  },
  {
   "cell_type": "code",
   "execution_count": null,
   "metadata": {},
   "outputs": [],
   "source": [
    "print(f\"The percentage of web users in this dataset was approximately %{round(percentage_web, 2)} This equals to about 1 ios users.\")"
   ]
  },
  {
   "cell_type": "markdown",
   "metadata": {},
   "source": [
    "Now lets try to see on average how much time did each user spent charging their car."
   ]
  },
  {
   "cell_type": "markdown",
   "metadata": {},
   "source": [
    "Now that we know that information lets see which day of the week did users prefer to charge their car."
   ]
  },
  {
   "cell_type": "code",
   "execution_count": null,
   "metadata": {},
   "outputs": [],
   "source": [
    "average_time = df[\"chargeTimeHrs\"].mean()\n",
    "print(average_time)\n"
   ]
  },
  {
   "cell_type": "markdown",
   "metadata": {},
   "source": [
    "We could also compare the average time of just ios or andriod to see if the charge time changes base on platform"
   ]
  },
  {
   "cell_type": "code",
   "execution_count": null,
   "metadata": {},
   "outputs": [],
   "source": [
    "time_android = df[[\"chargeTimeHrs\"]] [df[\"platform\"] == \"android\"]\n",
    "time_android_avg = time_android.mean()\n"
   ]
  },
  {
   "cell_type": "markdown",
   "metadata": {},
   "source": [
    "Lets do them same for ios"
   ]
  },
  {
   "cell_type": "code",
   "execution_count": null,
   "metadata": {},
   "outputs": [],
   "source": [
    "time_ios = df[[\"chargeTimeHrs\"]] [df[\"platform\"] == \"ios\"]\n",
    "time_ios_avg = time_ios.mean()"
   ]
  },
  {
   "cell_type": "code",
   "execution_count": null,
   "metadata": {},
   "outputs": [],
   "source": [
    "print(\"Averahe charge time of android users is: \", time_android_avg )\n",
    "print(\"Average Charge time of ios user is:\", time_ios_avg)\n",
    "print(average_time)"
   ]
  },
  {
   "cell_type": "markdown",
   "metadata": {},
   "source": [
    "There is no real significant difference between these two numbers but we could still plot them to see if we see anything interesting."
   ]
  },
  {
   "cell_type": "code",
   "execution_count": null,
   "metadata": {},
   "outputs": [],
   "source": [
    "import matplotlib.pyplot as plt"
   ]
  },
  {
   "cell_type": "code",
   "execution_count": null,
   "metadata": {},
   "outputs": [],
   "source": [
    "platform = df[\"platform\"]\n",
    "\n",
    "charge_time = df.loc[:,\"chargeTimeHrs\"].values.reshape(-1, 1)"
   ]
  },
  {
   "cell_type": "code",
   "execution_count": null,
   "metadata": {},
   "outputs": [],
   "source": [
    "plt.scatter(platform, charge_time)\n",
    "plt.title(\"Total Charge Time Per Platform\")\n",
    "plt.xlabel(\"Platform\")\n",
    "plt.ylabel(\"charge_time\")\n",
    "plt.show()"
   ]
  },
  {
   "cell_type": "markdown",
   "metadata": {},
   "source": [
    "as you could see. We have an outlier in the ios system lets try to find the session id link to that outlier."
   ]
  },
  {
   "cell_type": "code",
   "execution_count": null,
   "metadata": {},
   "outputs": [],
   "source": [
    "outlier = df[[\"sessionId\"]] [df[\"chargeTimeHrs\"] > 15]\n",
    "\n",
    "print(outlier)"
   ]
  },
  {
   "cell_type": "code",
   "execution_count": 132,
   "metadata": {},
   "outputs": [
    {
     "name": "stdout",
     "output_type": "stream",
     "text": [
      "     sessionId  kwhTotal  dollars            created              ended  \\\n",
      "173    2162299       4.1     0.83  14-11-18 15:40:26  14-11-18 17:11:04   \n",
      "\n",
      "     startTime  endTime  chargeTimeHrs weekday platform  ...  managerVehicle  \\\n",
      "173         18        1      55.238056     Mon      ios  ...               1   \n",
      "\n",
      "     facilityType  Mon  Tues  Wed  Thurs  Fri  Sat  Sun  reportedZip  \n",
      "173             4    1     0    0      0    0    0    0            0  \n",
      "\n",
      "[1 rows x 24 columns]\n"
     ]
    }
   ],
   "source": [
    "outlier_info = df[df[\"sessionId\"] == 2162299]\n",
    "\n",
    "print(outlier_info)"
   ]
  }
 ],
 "metadata": {
  "kernelspec": {
   "display_name": "Python 3.10.4 64-bit",
   "language": "python",
   "name": "python3"
  },
  "language_info": {
   "codemirror_mode": {
    "name": "ipython",
    "version": 3
   },
   "file_extension": ".py",
   "mimetype": "text/x-python",
   "name": "python",
   "nbconvert_exporter": "python",
   "pygments_lexer": "ipython3",
   "version": "3.10.6"
  },
  "orig_nbformat": 4,
  "vscode": {
   "interpreter": {
    "hash": "916dbcbb3f70747c44a77c7bcd40155683ae19c65e1c03b4aa3499c5328201f1"
   }
  }
 },
 "nbformat": 4,
 "nbformat_minor": 2
}
